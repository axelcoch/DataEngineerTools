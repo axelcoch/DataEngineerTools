{
 "cells": [
  {
   "cell_type": "markdown",
   "metadata": {},
   "source": [
    "# Introduction"
   ]
  },
  {
   "cell_type": "markdown",
   "metadata": {},
   "source": [
    "## Présentation"
   ]
  },
  {
   "cell_type": "markdown",
   "metadata": {},
   "source": [
    "Redis est une base de données NoSQL qui se classe dans la catégorie \"data structure server\". C'est  un système permettant de traiter, de manière très performante, des données sous la forme clés/valeurs. Cette performance est obtenue car les données sont stockées directement sur la mémoire RAM. Cela permet d'accéder très facilement aux données \n",
    "\n",
    "La clé permet de récupérer et d'identifier de manière unique la donnée. Redis ne permet pas de stocker des modèles de données très complexes il faut donc ruser pour créer une structure de données complète et complexe."
   ]
  },
  {
   "cell_type": "markdown",
   "metadata": {},
   "source": [
    "## Les données "
   ]
  },
  {
   "cell_type": "markdown",
   "metadata": {},
   "source": [
    "\n",
    "\n",
    "Les valeurs peuvent appartenir aux types suivants:\n",
    "\n",
    "- chaînes de caractères\n",
    "- compteurs numériques (les données numériques seront stockées dans la base sous la forme de chaîne de caractères)\n",
    "- listes \n",
    "- sets ou sets ordonnées\n",
    "- dictionnaires"
   ]
  },
  {
   "cell_type": "markdown",
   "metadata": {},
   "source": [
    "## Installation"
   ]
  },
  {
   "cell_type": "markdown",
   "metadata": {},
   "source": [
    "Pour installer la librairie de Python permettant d'intéragir avec Redis\n",
    "\n",
    "`pip install redis`\n",
    "\n",
    "ou si on utilise pipenv comme dans notre cas \n",
    "\n",
    "`pipenv install redis`"
   ]
  },
  {
   "cell_type": "markdown",
   "metadata": {},
   "source": [
    "# Let's play"
   ]
  },
  {
   "cell_type": "code",
   "execution_count": 2,
   "metadata": {
    "ExecuteTime": {
     "end_time": "2018-12-04T08:25:39.071270Z",
     "start_time": "2018-12-04T08:25:39.068233Z"
    }
   },
   "outputs": [],
   "source": [
    "import redis\n",
    "\n",
    "LOCAL = False"
   ]
  },
  {
   "cell_type": "code",
   "execution_count": 3,
   "metadata": {
    "ExecuteTime": {
     "end_time": "2018-12-04T08:25:39.317259Z",
     "start_time": "2018-12-04T08:25:39.312951Z"
    }
   },
   "outputs": [],
   "source": [
    "redis_client = redis.StrictRedis(host='localhost' if LOCAL else 'redis')"
   ]
  },
  {
   "cell_type": "markdown",
   "metadata": {},
   "source": [
    "Pour tester la connexion on peut pinguer la base de données :"
   ]
  },
  {
   "cell_type": "code",
   "execution_count": 3,
   "metadata": {
    "ExecuteTime": {
     "end_time": "2018-12-04T08:25:40.167383Z",
     "start_time": "2018-12-04T08:25:40.159274Z"
    }
   },
   "outputs": [
    {
     "data": {
      "text/plain": [
       "True"
      ]
     },
     "execution_count": 3,
     "metadata": {},
     "output_type": "execute_result"
    }
   ],
   "source": [
    "redis_client.ping()"
   ]
  },
  {
   "cell_type": "markdown",
   "metadata": {},
   "source": [
    "Vous pouvez regarder toutes les configurations utilisé par Redis, beaucoup ne sont pas utiles à notre niveau mais vous pouvez voir par exemple, `database`, `maxclients`, `port` , `timeout` qui peuvent être utile de modifier pour différentes applications"
   ]
  },
  {
   "cell_type": "code",
   "execution_count": 4,
   "metadata": {
    "ExecuteTime": {
     "end_time": "2018-12-04T08:25:40.857904Z",
     "start_time": "2018-12-04T08:25:40.847839Z"
    }
   },
   "outputs": [
    {
     "data": {
      "text/plain": [
       "{'rdbchecksum': 'yes',\n",
       " 'daemonize': 'no',\n",
       " 'io-threads-do-reads': 'no',\n",
       " 'lua-replicate-commands': 'yes',\n",
       " 'always-show-logo': 'no',\n",
       " 'protected-mode': 'no',\n",
       " 'rdbcompression': 'yes',\n",
       " 'rdb-del-sync-files': 'no',\n",
       " 'activerehashing': 'yes',\n",
       " 'stop-writes-on-bgsave-error': 'yes',\n",
       " 'set-proc-title': 'yes',\n",
       " 'dynamic-hz': 'yes',\n",
       " 'lazyfree-lazy-eviction': 'no',\n",
       " 'lazyfree-lazy-expire': 'no',\n",
       " 'lazyfree-lazy-server-del': 'no',\n",
       " 'lazyfree-lazy-user-del': 'no',\n",
       " 'lazyfree-lazy-user-flush': 'no',\n",
       " 'repl-disable-tcp-nodelay': 'no',\n",
       " 'repl-diskless-sync': 'no',\n",
       " 'gopher-enabled': 'no',\n",
       " 'aof-rewrite-incremental-fsync': 'yes',\n",
       " 'no-appendfsync-on-rewrite': 'no',\n",
       " 'cluster-require-full-coverage': 'yes',\n",
       " 'rdb-save-incremental-fsync': 'yes',\n",
       " 'aof-load-truncated': 'yes',\n",
       " 'aof-use-rdb-preamble': 'yes',\n",
       " 'cluster-replica-no-failover': 'no',\n",
       " 'cluster-slave-no-failover': 'no',\n",
       " 'replica-lazy-flush': 'no',\n",
       " 'slave-lazy-flush': 'no',\n",
       " 'replica-serve-stale-data': 'yes',\n",
       " 'slave-serve-stale-data': 'yes',\n",
       " 'replica-read-only': 'yes',\n",
       " 'slave-read-only': 'yes',\n",
       " 'replica-ignore-maxmemory': 'yes',\n",
       " 'slave-ignore-maxmemory': 'yes',\n",
       " 'jemalloc-bg-thread': 'yes',\n",
       " 'activedefrag': 'no',\n",
       " 'syslog-enabled': 'no',\n",
       " 'cluster-enabled': 'no',\n",
       " 'appendonly': 'no',\n",
       " 'cluster-allow-reads-when-down': 'no',\n",
       " 'crash-log-enabled': 'yes',\n",
       " 'crash-memcheck-enabled': 'yes',\n",
       " 'use-exit-on-panic': 'no',\n",
       " 'disable-thp': 'yes',\n",
       " 'cluster-allow-replica-migration': 'yes',\n",
       " 'replica-announced': 'yes',\n",
       " 'aclfile': '',\n",
       " 'unixsocket': '',\n",
       " 'pidfile': '',\n",
       " 'replica-announce-ip': '',\n",
       " 'slave-announce-ip': '',\n",
       " 'masteruser': '',\n",
       " 'cluster-announce-ip': '',\n",
       " 'syslog-ident': 'redis',\n",
       " 'dbfilename': 'dump.rdb',\n",
       " 'appendfilename': 'appendonly.aof',\n",
       " 'server_cpulist': '',\n",
       " 'bio_cpulist': '',\n",
       " 'aof_rewrite_cpulist': '',\n",
       " 'bgsave_cpulist': '',\n",
       " 'ignore-warnings': '',\n",
       " 'proc-title-template': '{title} {listen-addr} {server-mode}',\n",
       " 'masterauth': '',\n",
       " 'requirepass': '',\n",
       " 'supervised': 'no',\n",
       " 'syslog-facility': 'local0',\n",
       " 'repl-diskless-load': 'disabled',\n",
       " 'loglevel': 'notice',\n",
       " 'maxmemory-policy': 'noeviction',\n",
       " 'appendfsync': 'everysec',\n",
       " 'oom-score-adj': 'no',\n",
       " 'acl-pubsub-default': 'allchannels',\n",
       " 'sanitize-dump-payload': 'no',\n",
       " 'databases': '16',\n",
       " 'port': '6379',\n",
       " 'io-threads': '1',\n",
       " 'auto-aof-rewrite-percentage': '100',\n",
       " 'cluster-replica-validity-factor': '10',\n",
       " 'cluster-slave-validity-factor': '10',\n",
       " 'list-max-ziplist-size': '-2',\n",
       " 'tcp-keepalive': '300',\n",
       " 'cluster-migration-barrier': '1',\n",
       " 'active-defrag-cycle-min': '1',\n",
       " 'active-defrag-cycle-max': '25',\n",
       " 'active-defrag-threshold-lower': '10',\n",
       " 'active-defrag-threshold-upper': '100',\n",
       " 'lfu-log-factor': '10',\n",
       " 'lfu-decay-time': '1',\n",
       " 'replica-priority': '100',\n",
       " 'slave-priority': '100',\n",
       " 'repl-diskless-sync-delay': '5',\n",
       " 'maxmemory-samples': '5',\n",
       " 'maxmemory-eviction-tenacity': '10',\n",
       " 'timeout': '0',\n",
       " 'replica-announce-port': '0',\n",
       " 'slave-announce-port': '0',\n",
       " 'tcp-backlog': '511',\n",
       " 'cluster-announce-bus-port': '0',\n",
       " 'cluster-announce-port': '0',\n",
       " 'cluster-announce-tls-port': '0',\n",
       " 'repl-timeout': '60',\n",
       " 'repl-ping-replica-period': '10',\n",
       " 'repl-ping-slave-period': '10',\n",
       " 'list-compress-depth': '0',\n",
       " 'rdb-key-save-delay': '0',\n",
       " 'key-load-delay': '0',\n",
       " 'active-expire-effort': '1',\n",
       " 'hz': '10',\n",
       " 'min-replicas-to-write': '0',\n",
       " 'min-slaves-to-write': '0',\n",
       " 'min-replicas-max-lag': '10',\n",
       " 'min-slaves-max-lag': '10',\n",
       " 'maxclients': '10000',\n",
       " 'active-defrag-max-scan-fields': '1000',\n",
       " 'slowlog-max-len': '128',\n",
       " 'acllog-max-len': '128',\n",
       " 'lua-time-limit': '5000',\n",
       " 'cluster-node-timeout': '15000',\n",
       " 'slowlog-log-slower-than': '10000',\n",
       " 'latency-monitor-threshold': '0',\n",
       " 'proto-max-bulk-len': '536870912',\n",
       " 'stream-node-max-entries': '100',\n",
       " 'repl-backlog-size': '1048576',\n",
       " 'maxmemory': '0',\n",
       " 'hash-max-ziplist-entries': '512',\n",
       " 'set-max-intset-entries': '512',\n",
       " 'zset-max-ziplist-entries': '128',\n",
       " 'active-defrag-ignore-bytes': '104857600',\n",
       " 'hash-max-ziplist-value': '64',\n",
       " 'stream-node-max-bytes': '4096',\n",
       " 'zset-max-ziplist-value': '64',\n",
       " 'hll-sparse-max-bytes': '3000',\n",
       " 'tracking-table-max-keys': '1000000',\n",
       " 'client-query-buffer-limit': '1073741824',\n",
       " 'repl-backlog-ttl': '3600',\n",
       " 'auto-aof-rewrite-min-size': '67108864',\n",
       " 'tls-port': '0',\n",
       " 'tls-session-cache-size': '20480',\n",
       " 'tls-session-cache-timeout': '300',\n",
       " 'tls-cluster': 'no',\n",
       " 'tls-replication': 'no',\n",
       " 'tls-auth-clients': 'yes',\n",
       " 'tls-prefer-server-ciphers': 'no',\n",
       " 'tls-session-caching': 'yes',\n",
       " 'tls-cert-file': '',\n",
       " 'tls-key-file': '',\n",
       " 'tls-key-file-pass': '',\n",
       " 'tls-client-cert-file': '',\n",
       " 'tls-client-key-file': '',\n",
       " 'tls-client-key-file-pass': '',\n",
       " 'tls-dh-params-file': '',\n",
       " 'tls-ca-cert-file': '',\n",
       " 'tls-ca-cert-dir': '',\n",
       " 'tls-protocols': '',\n",
       " 'tls-ciphers': '',\n",
       " 'tls-ciphersuites': '',\n",
       " 'logfile': '',\n",
       " 'watchdog-period': '0',\n",
       " 'dir': '/data',\n",
       " 'save': '3600 1 300 100 60 10000',\n",
       " 'client-output-buffer-limit': 'normal 0 0 0 slave 268435456 67108864 60 pubsub 33554432 8388608 60',\n",
       " 'unixsocketperm': '0',\n",
       " 'slaveof': '',\n",
       " 'notify-keyspace-events': '',\n",
       " 'bind': '',\n",
       " 'oom-score-adj-values': '0 200 800'}"
      ]
     },
     "execution_count": 4,
     "metadata": {},
     "output_type": "execute_result"
    }
   ],
   "source": [
    "redis_client.config_get()"
   ]
  },
  {
   "cell_type": "markdown",
   "metadata": {},
   "source": [
    "## Stockage clé valeurs"
   ]
  },
  {
   "cell_type": "markdown",
   "metadata": {},
   "source": [
    "Pour stocker une valeur correspondant à une clé "
   ]
  },
  {
   "cell_type": "code",
   "execution_count": 5,
   "metadata": {
    "ExecuteTime": {
     "end_time": "2018-12-04T08:25:41.694243Z",
     "start_time": "2018-12-04T08:25:41.688105Z"
    }
   },
   "outputs": [
    {
     "data": {
      "text/plain": [
       "True"
      ]
     },
     "execution_count": 5,
     "metadata": {},
     "output_type": "execute_result"
    }
   ],
   "source": [
    "KEY = \"name\"\n",
    "VALUE = \"yourname\"\n",
    "redis_client.set(KEY, VALUE)"
   ]
  },
  {
   "cell_type": "markdown",
   "metadata": {},
   "source": [
    "True montre que le stockage s'est bien déroulé. "
   ]
  },
  {
   "cell_type": "markdown",
   "metadata": {},
   "source": [
    "Pour récupérer la valeur stocké il suffit d'appeler la méthode `GET` sur cette clé"
   ]
  },
  {
   "cell_type": "code",
   "execution_count": 6,
   "metadata": {
    "ExecuteTime": {
     "end_time": "2018-12-04T08:25:42.688807Z",
     "start_time": "2018-12-04T08:25:42.682023Z"
    }
   },
   "outputs": [
    {
     "data": {
      "text/plain": [
       "b'yourname'"
      ]
     },
     "execution_count": 6,
     "metadata": {},
     "output_type": "execute_result"
    }
   ],
   "source": [
    "redis_client.get(KEY)"
   ]
  },
  {
   "cell_type": "markdown",
   "metadata": {},
   "source": [
    "Vous pouvez voir que à l'aide du `b` que la réponse n'est pas exactement ce que l'on a stocké mais une représentation en bytes de notre chaine de charactères. "
   ]
  },
  {
   "cell_type": "code",
   "execution_count": 7,
   "metadata": {
    "ExecuteTime": {
     "end_time": "2018-12-04T08:25:43.214343Z",
     "start_time": "2018-12-04T08:25:43.204141Z"
    }
   },
   "outputs": [
    {
     "ename": "AssertionError",
     "evalue": "Les valeurs ne correspondent pas",
     "output_type": "error",
     "traceback": [
      "\u001b[0;31m---------------------------------------------------------------------------\u001b[0m",
      "\u001b[0;31mAssertionError\u001b[0m                            Traceback (most recent call last)",
      "\u001b[0;32m/tmp/ipykernel_82/3167113908.py\u001b[0m in \u001b[0;36m<module>\u001b[0;34m\u001b[0m\n\u001b[0;32m----> 1\u001b[0;31m \u001b[0;32massert\u001b[0m \u001b[0mredis_client\u001b[0m\u001b[0;34m.\u001b[0m\u001b[0mget\u001b[0m\u001b[0;34m(\u001b[0m\u001b[0mKEY\u001b[0m\u001b[0;34m)\u001b[0m \u001b[0;34m==\u001b[0m \u001b[0mVALUE\u001b[0m\u001b[0;34m,\u001b[0m \u001b[0;34m\"Les valeurs ne correspondent pas\"\u001b[0m\u001b[0;34m\u001b[0m\u001b[0;34m\u001b[0m\u001b[0m\n\u001b[0m",
      "\u001b[0;31mAssertionError\u001b[0m: Les valeurs ne correspondent pas"
     ]
    }
   ],
   "source": [
    "assert redis_client.get(KEY) == VALUE, \"Les valeurs ne correspondent pas\""
   ]
  },
  {
   "cell_type": "markdown",
   "metadata": {},
   "source": [
    "Pour cela, en python, il faut appeler la méthode `decode()` pour transformer des bytes en string "
   ]
  },
  {
   "cell_type": "code",
   "execution_count": 8,
   "metadata": {
    "ExecuteTime": {
     "end_time": "2018-12-04T08:25:44.385530Z",
     "start_time": "2018-12-04T08:25:44.381006Z"
    }
   },
   "outputs": [],
   "source": [
    "assert redis_client.get(KEY).decode() == VALUE, \"les valeurs ne correspondent pas\""
   ]
  },
  {
   "cell_type": "markdown",
   "metadata": {},
   "source": [
    "On peut préciser au client de décoder les réponses et de les transformer directement en strings"
   ]
  },
  {
   "cell_type": "code",
   "execution_count": 9,
   "metadata": {
    "ExecuteTime": {
     "end_time": "2018-12-04T08:26:03.568675Z",
     "start_time": "2018-12-04T08:26:03.563799Z"
    }
   },
   "outputs": [],
   "source": [
    "redis_client = redis.StrictRedis(host='localhost' if LOCAL else 'redis', port=6379, charset='utf-8', decode_responses=True)"
   ]
  },
  {
   "cell_type": "code",
   "execution_count": 10,
   "metadata": {
    "ExecuteTime": {
     "end_time": "2018-12-04T08:26:04.033465Z",
     "start_time": "2018-12-04T08:26:04.023275Z"
    }
   },
   "outputs": [],
   "source": [
    "assert redis_client.get(KEY) == VALUE"
   ]
  },
  {
   "cell_type": "markdown",
   "metadata": {},
   "source": [
    "Les valeurs peuvent aussi être des entiers"
   ]
  },
  {
   "cell_type": "code",
   "execution_count": 11,
   "metadata": {
    "ExecuteTime": {
     "end_time": "2018-12-04T08:26:06.379973Z",
     "start_time": "2018-12-04T08:26:06.373205Z"
    }
   },
   "outputs": [
    {
     "data": {
      "text/plain": [
       "True"
      ]
     },
     "execution_count": 11,
     "metadata": {},
     "output_type": "execute_result"
    }
   ],
   "source": [
    "KEY = \"age\"\n",
    "VALUE = 20\n",
    "\n",
    "redis_client.set(KEY, VALUE)"
   ]
  },
  {
   "cell_type": "code",
   "execution_count": 12,
   "metadata": {
    "ExecuteTime": {
     "end_time": "2018-12-04T08:26:07.073320Z",
     "start_time": "2018-12-04T08:26:07.066581Z"
    }
   },
   "outputs": [
    {
     "data": {
      "text/plain": [
       "'20'"
      ]
     },
     "execution_count": 12,
     "metadata": {},
     "output_type": "execute_result"
    }
   ],
   "source": [
    "redis_client.get(KEY)"
   ]
  },
  {
   "cell_type": "markdown",
   "metadata": {},
   "source": [
    "Vous pouvez alors utiliser la méthode `incr` pour incrémenter cet entier. Il faut faire attention puisque redis renvoie toujours les entiers comme des chaines de charactères."
   ]
  },
  {
   "cell_type": "code",
   "execution_count": 13,
   "metadata": {
    "ExecuteTime": {
     "end_time": "2018-12-04T08:26:07.706424Z",
     "start_time": "2018-12-04T08:26:07.699705Z"
    }
   },
   "outputs": [
    {
     "data": {
      "text/plain": [
       "21"
      ]
     },
     "execution_count": 13,
     "metadata": {},
     "output_type": "execute_result"
    }
   ],
   "source": [
    "redis_client.incr(KEY)"
   ]
  },
  {
   "cell_type": "markdown",
   "metadata": {},
   "source": [
    "## Exemple "
   ]
  },
  {
   "cell_type": "code",
   "execution_count": 14,
   "metadata": {
    "ExecuteTime": {
     "end_time": "2018-12-04T08:26:08.699775Z",
     "start_time": "2018-12-04T08:26:08.696428Z"
    }
   },
   "outputs": [],
   "source": [
    "from ipywidgets import widgets, interact\n",
    "from IPython.display import display"
   ]
  },
  {
   "cell_type": "code",
   "execution_count": 16,
   "metadata": {
    "ExecuteTime": {
     "end_time": "2018-12-04T08:26:09.194404Z",
     "start_time": "2018-12-04T08:26:09.176035Z"
    }
   },
   "outputs": [
    {
     "data": {
      "application/vnd.jupyter.widget-view+json": {
       "model_id": "f9a01de153db4927a44caa1282fe1e30",
       "version_major": 2,
       "version_minor": 0
      },
      "text/plain": [
       "Button(description='Click me!', style=ButtonStyle())"
      ]
     },
     "metadata": {},
     "output_type": "display_data"
    },
    {
     "name": "stdout",
     "output_type": "stream",
     "text": [
      "Le bouton à été cliqué 1 fois\n"
     ]
    }
   ],
   "source": [
    "KEY = \"click_number\"\n",
    "DEFAULT_VALUE = 0\n",
    "\n",
    "redis_client.set(KEY, DEFAULT_VALUE)\n",
    "\n",
    "button = widgets.Button(description=\"Click me!\")\n",
    "def on_button_clicked(button):\n",
    "    redis_client.incr(KEY)\n",
    "    print(f\"Le bouton à été cliqué {redis_client.get(KEY)} fois\")\n",
    "    button.description = \"Click me more !\"\n",
    "    \n",
    "button.on_click(on_button_clicked)\n",
    "display(button)"
   ]
  },
  {
   "cell_type": "markdown",
   "metadata": {},
   "source": [
    "## Les Listes"
   ]
  },
  {
   "cell_type": "markdown",
   "metadata": {},
   "source": [
    "Redis permet aussi de stocker des valeurs de type `list`, pour cela nous avons à notre disposition un ensemble de méthodes :  \n",
    "\n",
    "- La méthode `LPUSH`  permet d'ajouter un élément en tête de list la complexité est de O(1).  \n",
    "- La méthode `RPUSH` permet d'ajouter un élément en queue de list la complexité est de O(1).  \n",
    "- La méthode `LINSERT` permet d'ajouter un élément avant ou après la première occurence d'une certaine valeur, la complexité est de O(N) à part pour le premier et le dernier élèment.\n",
    "- La méthode `LSET` permet de modifier la valeur correspondant à l'index spécifié, la complexité est de O(N) à part pour le premier et le dernier élèment.\n",
    "- La méthode `RPOP` permet de supprimer un élément en queue de list la complexité est de O(1).\n",
    "- La méthode `LPOP` permet de supprimer un élément en tête de list la complexité est de O(1).\n",
    "- La méthode `LINDEX` permet d'afficher un élément en fonction de son index.\n",
    "- La méthode `LREM` permet de supprimer un élément en fonction de son index.\n",
    "- La méthode `LLEN` permet de récupérer la taille d'une liste.\n",
    "\n",
    "Nous allons toutes les tester."
   ]
  },
  {
   "cell_type": "code",
   "execution_count": 17,
   "metadata": {
    "ExecuteTime": {
     "end_time": "2018-12-04T08:26:24.680746Z",
     "start_time": "2018-12-04T08:26:24.673481Z"
    }
   },
   "outputs": [
    {
     "data": {
      "text/plain": [
       "2"
      ]
     },
     "execution_count": 17,
     "metadata": {},
     "output_type": "execute_result"
    }
   ],
   "source": [
    "redis_client.lpush('language_list', \"kotlin\")\n",
    "redis_client.lpush('language_list', \"python\")"
   ]
  },
  {
   "cell_type": "markdown",
   "metadata": {},
   "source": [
    "On peut aussi ajouter plusieurs élément en même temps dans une liste"
   ]
  },
  {
   "cell_type": "code",
   "execution_count": 18,
   "metadata": {
    "ExecuteTime": {
     "end_time": "2018-12-04T08:26:27.016079Z",
     "start_time": "2018-12-04T08:26:27.009199Z"
    }
   },
   "outputs": [
    {
     "data": {
      "text/plain": [
       "4"
      ]
     },
     "execution_count": 18,
     "metadata": {},
     "output_type": "execute_result"
    }
   ],
   "source": [
    "redis_client.lpush('language_list', \"java\", \"c++\")"
   ]
  },
  {
   "cell_type": "code",
   "execution_count": 19,
   "metadata": {
    "ExecuteTime": {
     "end_time": "2018-12-04T08:26:30.245500Z",
     "start_time": "2018-12-04T08:26:30.238681Z"
    }
   },
   "outputs": [
    {
     "data": {
      "text/plain": [
       "'La taille de la liste est 4'"
      ]
     },
     "execution_count": 19,
     "metadata": {},
     "output_type": "execute_result"
    }
   ],
   "source": [
    "f\"La taille de la liste est {redis_client.llen('language_list')}\""
   ]
  },
  {
   "cell_type": "code",
   "execution_count": 20,
   "metadata": {
    "ExecuteTime": {
     "end_time": "2018-12-04T08:26:30.939658Z",
     "start_time": "2018-12-04T08:26:30.931391Z"
    }
   },
   "outputs": [
    {
     "data": {
      "text/plain": [
       "\"L'élément à l'index 2 taille de la liste est 'python'\""
      ]
     },
     "execution_count": 20,
     "metadata": {},
     "output_type": "execute_result"
    }
   ],
   "source": [
    "INDEX = 2\n",
    "f\"L'élément à l'index {INDEX} taille de la liste est '{redis_client.lindex('language_list', INDEX)}'\""
   ]
  },
  {
   "cell_type": "markdown",
   "metadata": {},
   "source": [
    "Le client renvoie la taille de la liste venant d'être mise à jour. On peut afficher tous les éléments de la liste en les retirant un par un."
   ]
  },
  {
   "cell_type": "code",
   "execution_count": 21,
   "metadata": {
    "ExecuteTime": {
     "end_time": "2018-12-04T08:26:32.044205Z",
     "start_time": "2018-12-04T08:26:32.034495Z"
    },
    "scrolled": true
   },
   "outputs": [
    {
     "name": "stdout",
     "output_type": "stream",
     "text": [
      "c++\n",
      "java\n",
      "python\n",
      "kotlin\n"
     ]
    }
   ],
   "source": [
    "while(redis_client.llen('language_list')!=0):\n",
    "\n",
    "    print(redis_client.lpop('language_list'))"
   ]
  },
  {
   "cell_type": "markdown",
   "metadata": {},
   "source": [
    "## Les dictionnaires "
   ]
  },
  {
   "cell_type": "markdown",
   "metadata": {},
   "source": [
    "Redis permet de stocker assez facilement des dictionnaires, on peut comme cela stocker des structures de données plus complexes. Pour cela nous avons plusieurs méthodes : \n",
    "\n",
    "- La méthode `HMSET` permet d'ajouter un dictionnaire à une clé\n",
    "- La méthode `HSET` permet d'ajouter ou de modifier la valeur d'une clé d'un dictionnaire\n",
    "- La méthode `HGET` permet d'ajouter ou de modifier la valeur d'une clé d'un dictionnaire\n",
    "- La méthode `HGETALL` permet de récupérer toutes les clés valeurs d'un dictionnaire.\n",
    "- La méthode `HKEYS` permet de récupérer toutes les clés d'un dictionnaire\n",
    "- La méthode `HVALS` permet de récupérer toutes les valeurs d'un dictionnaire"
   ]
  },
  {
   "cell_type": "code",
   "execution_count": 11,
   "metadata": {
    "ExecuteTime": {
     "end_time": "2018-12-04T08:26:33.442083Z",
     "start_time": "2018-12-04T08:26:33.438667Z"
    }
   },
   "outputs": [],
   "source": [
    "doc = {\n",
    "    \"name\":\"yourname\",\n",
    "    \"age\":20,\n",
    "    \"city\":\"paris\"\n",
    "}"
   ]
  },
  {
   "cell_type": "code",
   "execution_count": 12,
   "metadata": {
    "ExecuteTime": {
     "end_time": "2018-12-04T08:26:33.878602Z",
     "start_time": "2018-12-04T08:26:33.870214Z"
    }
   },
   "outputs": [
    {
     "name": "stderr",
     "output_type": "stream",
     "text": [
      "/tmp/ipykernel_36/3800190253.py:1: DeprecationWarning: Redis.hmset() is deprecated. Use Redis.hset() instead.\n",
      "  redis_client.hmset(\"user1\", doc)\n"
     ]
    },
    {
     "ename": "DataError",
     "evalue": "Invalid input of type: 'dict'. Convert to a bytes, string, int or float first.",
     "output_type": "error",
     "traceback": [
      "\u001b[0;31m---------------------------------------------------------------------------\u001b[0m",
      "\u001b[0;31mDataError\u001b[0m                                 Traceback (most recent call last)",
      "\u001b[0;32m/tmp/ipykernel_36/3800190253.py\u001b[0m in \u001b[0;36m<module>\u001b[0;34m\u001b[0m\n\u001b[0;32m----> 1\u001b[0;31m \u001b[0mredis_client\u001b[0m\u001b[0;34m.\u001b[0m\u001b[0mhmset\u001b[0m\u001b[0;34m(\u001b[0m\u001b[0;34m\"user1\"\u001b[0m\u001b[0;34m,\u001b[0m \u001b[0mdoc\u001b[0m\u001b[0;34m)\u001b[0m\u001b[0;34m\u001b[0m\u001b[0;34m\u001b[0m\u001b[0m\n\u001b[0m",
      "\u001b[0;32m~/.local/share/virtualenvs/code-AFz48Hjb/lib/python3.8/site-packages/redis/commands/core.py\u001b[0m in \u001b[0;36mhmset\u001b[0;34m(self, name, mapping)\u001b[0m\n\u001b[1;32m   3412\u001b[0m         \u001b[0;32mfor\u001b[0m \u001b[0mpair\u001b[0m \u001b[0;32min\u001b[0m \u001b[0mmapping\u001b[0m\u001b[0;34m.\u001b[0m\u001b[0mitems\u001b[0m\u001b[0;34m(\u001b[0m\u001b[0;34m)\u001b[0m\u001b[0;34m:\u001b[0m\u001b[0;34m\u001b[0m\u001b[0;34m\u001b[0m\u001b[0m\n\u001b[1;32m   3413\u001b[0m             \u001b[0mitems\u001b[0m\u001b[0;34m.\u001b[0m\u001b[0mextend\u001b[0m\u001b[0;34m(\u001b[0m\u001b[0mpair\u001b[0m\u001b[0;34m)\u001b[0m\u001b[0;34m\u001b[0m\u001b[0;34m\u001b[0m\u001b[0m\n\u001b[0;32m-> 3414\u001b[0;31m         \u001b[0;32mreturn\u001b[0m \u001b[0mself\u001b[0m\u001b[0;34m.\u001b[0m\u001b[0mexecute_command\u001b[0m\u001b[0;34m(\u001b[0m\u001b[0;34m'HMSET'\u001b[0m\u001b[0;34m,\u001b[0m \u001b[0mname\u001b[0m\u001b[0;34m,\u001b[0m \u001b[0;34m*\u001b[0m\u001b[0mitems\u001b[0m\u001b[0;34m)\u001b[0m\u001b[0;34m\u001b[0m\u001b[0;34m\u001b[0m\u001b[0m\n\u001b[0m\u001b[1;32m   3415\u001b[0m \u001b[0;34m\u001b[0m\u001b[0m\n\u001b[1;32m   3416\u001b[0m     \u001b[0;32mdef\u001b[0m \u001b[0mhmget\u001b[0m\u001b[0;34m(\u001b[0m\u001b[0mself\u001b[0m\u001b[0;34m,\u001b[0m \u001b[0mname\u001b[0m\u001b[0;34m,\u001b[0m \u001b[0mkeys\u001b[0m\u001b[0;34m,\u001b[0m \u001b[0;34m*\u001b[0m\u001b[0margs\u001b[0m\u001b[0;34m)\u001b[0m\u001b[0;34m:\u001b[0m\u001b[0;34m\u001b[0m\u001b[0;34m\u001b[0m\u001b[0m\n",
      "\u001b[0;32m~/.local/share/virtualenvs/code-AFz48Hjb/lib/python3.8/site-packages/redis/client.py\u001b[0m in \u001b[0;36mexecute_command\u001b[0;34m(self, *args, **options)\u001b[0m\n\u001b[1;32m   1069\u001b[0m \u001b[0;34m\u001b[0m\u001b[0m\n\u001b[1;32m   1070\u001b[0m         \u001b[0;32mtry\u001b[0m\u001b[0;34m:\u001b[0m\u001b[0;34m\u001b[0m\u001b[0;34m\u001b[0m\u001b[0m\n\u001b[0;32m-> 1071\u001b[0;31m             return conn.retry.call_with_retry(\n\u001b[0m\u001b[1;32m   1072\u001b[0m                 lambda: self._send_command_parse_response(conn,\n\u001b[1;32m   1073\u001b[0m                                                           \u001b[0mcommand_name\u001b[0m\u001b[0;34m,\u001b[0m\u001b[0;34m\u001b[0m\u001b[0;34m\u001b[0m\u001b[0m\n",
      "\u001b[0;32m~/.local/share/virtualenvs/code-AFz48Hjb/lib/python3.8/site-packages/redis/retry.py\u001b[0m in \u001b[0;36mcall_with_retry\u001b[0;34m(self, do, fail)\u001b[0m\n\u001b[1;32m     30\u001b[0m         \u001b[0;32mwhile\u001b[0m \u001b[0;32mTrue\u001b[0m\u001b[0;34m:\u001b[0m\u001b[0;34m\u001b[0m\u001b[0;34m\u001b[0m\u001b[0m\n\u001b[1;32m     31\u001b[0m             \u001b[0;32mtry\u001b[0m\u001b[0;34m:\u001b[0m\u001b[0;34m\u001b[0m\u001b[0;34m\u001b[0m\u001b[0m\n\u001b[0;32m---> 32\u001b[0;31m                 \u001b[0;32mreturn\u001b[0m \u001b[0mdo\u001b[0m\u001b[0;34m(\u001b[0m\u001b[0;34m)\u001b[0m\u001b[0;34m\u001b[0m\u001b[0;34m\u001b[0m\u001b[0m\n\u001b[0m\u001b[1;32m     33\u001b[0m             \u001b[0;32mexcept\u001b[0m \u001b[0mself\u001b[0m\u001b[0;34m.\u001b[0m\u001b[0m_supported_errors\u001b[0m \u001b[0;32mas\u001b[0m \u001b[0merror\u001b[0m\u001b[0;34m:\u001b[0m\u001b[0;34m\u001b[0m\u001b[0;34m\u001b[0m\u001b[0m\n\u001b[1;32m     34\u001b[0m                 \u001b[0mfailures\u001b[0m \u001b[0;34m+=\u001b[0m \u001b[0;36m1\u001b[0m\u001b[0;34m\u001b[0m\u001b[0;34m\u001b[0m\u001b[0m\n",
      "\u001b[0;32m~/.local/share/virtualenvs/code-AFz48Hjb/lib/python3.8/site-packages/redis/client.py\u001b[0m in \u001b[0;36m<lambda>\u001b[0;34m()\u001b[0m\n\u001b[1;32m   1070\u001b[0m         \u001b[0;32mtry\u001b[0m\u001b[0;34m:\u001b[0m\u001b[0;34m\u001b[0m\u001b[0;34m\u001b[0m\u001b[0m\n\u001b[1;32m   1071\u001b[0m             return conn.retry.call_with_retry(\n\u001b[0;32m-> 1072\u001b[0;31m                 lambda: self._send_command_parse_response(conn,\n\u001b[0m\u001b[1;32m   1073\u001b[0m                                                           \u001b[0mcommand_name\u001b[0m\u001b[0;34m,\u001b[0m\u001b[0;34m\u001b[0m\u001b[0;34m\u001b[0m\u001b[0m\n\u001b[1;32m   1074\u001b[0m                                                           \u001b[0;34m*\u001b[0m\u001b[0margs\u001b[0m\u001b[0;34m,\u001b[0m\u001b[0;34m\u001b[0m\u001b[0;34m\u001b[0m\u001b[0m\n",
      "\u001b[0;32m~/.local/share/virtualenvs/code-AFz48Hjb/lib/python3.8/site-packages/redis/client.py\u001b[0m in \u001b[0;36m_send_command_parse_response\u001b[0;34m(self, conn, command_name, *args, **options)\u001b[0m\n\u001b[1;32m   1048\u001b[0m         \u001b[0mSend\u001b[0m \u001b[0ma\u001b[0m \u001b[0mcommand\u001b[0m \u001b[0;32mand\u001b[0m \u001b[0mparse\u001b[0m \u001b[0mthe\u001b[0m \u001b[0mresponse\u001b[0m\u001b[0;34m\u001b[0m\u001b[0;34m\u001b[0m\u001b[0m\n\u001b[1;32m   1049\u001b[0m         \"\"\"\n\u001b[0;32m-> 1050\u001b[0;31m         \u001b[0mconn\u001b[0m\u001b[0;34m.\u001b[0m\u001b[0msend_command\u001b[0m\u001b[0;34m(\u001b[0m\u001b[0;34m*\u001b[0m\u001b[0margs\u001b[0m\u001b[0;34m)\u001b[0m\u001b[0;34m\u001b[0m\u001b[0;34m\u001b[0m\u001b[0m\n\u001b[0m\u001b[1;32m   1051\u001b[0m         \u001b[0;32mreturn\u001b[0m \u001b[0mself\u001b[0m\u001b[0;34m.\u001b[0m\u001b[0mparse_response\u001b[0m\u001b[0;34m(\u001b[0m\u001b[0mconn\u001b[0m\u001b[0;34m,\u001b[0m \u001b[0mcommand_name\u001b[0m\u001b[0;34m,\u001b[0m \u001b[0;34m**\u001b[0m\u001b[0moptions\u001b[0m\u001b[0;34m)\u001b[0m\u001b[0;34m\u001b[0m\u001b[0;34m\u001b[0m\u001b[0m\n\u001b[1;32m   1052\u001b[0m \u001b[0;34m\u001b[0m\u001b[0m\n",
      "\u001b[0;32m~/.local/share/virtualenvs/code-AFz48Hjb/lib/python3.8/site-packages/redis/connection.py\u001b[0m in \u001b[0;36msend_command\u001b[0;34m(self, *args, **kwargs)\u001b[0m\n\u001b[1;32m    733\u001b[0m     \u001b[0;32mdef\u001b[0m \u001b[0msend_command\u001b[0m\u001b[0;34m(\u001b[0m\u001b[0mself\u001b[0m\u001b[0;34m,\u001b[0m \u001b[0;34m*\u001b[0m\u001b[0margs\u001b[0m\u001b[0;34m,\u001b[0m \u001b[0;34m**\u001b[0m\u001b[0mkwargs\u001b[0m\u001b[0;34m)\u001b[0m\u001b[0;34m:\u001b[0m\u001b[0;34m\u001b[0m\u001b[0;34m\u001b[0m\u001b[0m\n\u001b[1;32m    734\u001b[0m         \u001b[0;34m\"\"\"Pack and send a command to the Redis server\"\"\"\u001b[0m\u001b[0;34m\u001b[0m\u001b[0;34m\u001b[0m\u001b[0m\n\u001b[0;32m--> 735\u001b[0;31m         self.send_packed_command(self.pack_command(*args),\n\u001b[0m\u001b[1;32m    736\u001b[0m                                  check_health=kwargs.get('check_health', True))\n\u001b[1;32m    737\u001b[0m \u001b[0;34m\u001b[0m\u001b[0m\n",
      "\u001b[0;32m~/.local/share/virtualenvs/code-AFz48Hjb/lib/python3.8/site-packages/redis/connection.py\u001b[0m in \u001b[0;36mpack_command\u001b[0;34m(self, *args)\u001b[0m\n\u001b[1;32m    782\u001b[0m \u001b[0;34m\u001b[0m\u001b[0m\n\u001b[1;32m    783\u001b[0m         \u001b[0mbuffer_cutoff\u001b[0m \u001b[0;34m=\u001b[0m \u001b[0mself\u001b[0m\u001b[0;34m.\u001b[0m\u001b[0m_buffer_cutoff\u001b[0m\u001b[0;34m\u001b[0m\u001b[0;34m\u001b[0m\u001b[0m\n\u001b[0;32m--> 784\u001b[0;31m         \u001b[0;32mfor\u001b[0m \u001b[0marg\u001b[0m \u001b[0;32min\u001b[0m \u001b[0mmap\u001b[0m\u001b[0;34m(\u001b[0m\u001b[0mself\u001b[0m\u001b[0;34m.\u001b[0m\u001b[0mencoder\u001b[0m\u001b[0;34m.\u001b[0m\u001b[0mencode\u001b[0m\u001b[0;34m,\u001b[0m \u001b[0margs\u001b[0m\u001b[0;34m)\u001b[0m\u001b[0;34m:\u001b[0m\u001b[0;34m\u001b[0m\u001b[0;34m\u001b[0m\u001b[0m\n\u001b[0m\u001b[1;32m    785\u001b[0m             \u001b[0;31m# to avoid large string mallocs, chunk the command into the\u001b[0m\u001b[0;34m\u001b[0m\u001b[0;34m\u001b[0m\u001b[0;34m\u001b[0m\u001b[0m\n\u001b[1;32m    786\u001b[0m             \u001b[0;31m# output list if we're sending large values or memoryviews\u001b[0m\u001b[0;34m\u001b[0m\u001b[0;34m\u001b[0m\u001b[0;34m\u001b[0m\u001b[0m\n",
      "\u001b[0;32m~/.local/share/virtualenvs/code-AFz48Hjb/lib/python3.8/site-packages/redis/connection.py\u001b[0m in \u001b[0;36mencode\u001b[0;34m(self, value)\u001b[0m\n\u001b[1;32m    107\u001b[0m             \u001b[0;31m# a value we don't know how to deal with. throw an error\u001b[0m\u001b[0;34m\u001b[0m\u001b[0;34m\u001b[0m\u001b[0;34m\u001b[0m\u001b[0m\n\u001b[1;32m    108\u001b[0m             \u001b[0mtypename\u001b[0m \u001b[0;34m=\u001b[0m \u001b[0mtype\u001b[0m\u001b[0;34m(\u001b[0m\u001b[0mvalue\u001b[0m\u001b[0;34m)\u001b[0m\u001b[0;34m.\u001b[0m\u001b[0m__name__\u001b[0m\u001b[0;34m\u001b[0m\u001b[0;34m\u001b[0m\u001b[0m\n\u001b[0;32m--> 109\u001b[0;31m             raise DataError(\"Invalid input of type: '%s'. Convert to a \"\n\u001b[0m\u001b[1;32m    110\u001b[0m                             \"bytes, string, int or float first.\" % typename)\n\u001b[1;32m    111\u001b[0m         \u001b[0;32mif\u001b[0m \u001b[0misinstance\u001b[0m\u001b[0;34m(\u001b[0m\u001b[0mvalue\u001b[0m\u001b[0;34m,\u001b[0m \u001b[0mstr\u001b[0m\u001b[0;34m)\u001b[0m\u001b[0;34m:\u001b[0m\u001b[0;34m\u001b[0m\u001b[0;34m\u001b[0m\u001b[0m\n",
      "\u001b[0;31mDataError\u001b[0m: Invalid input of type: 'dict'. Convert to a bytes, string, int or float first."
     ]
    }
   ],
   "source": [
    "redis_client.hmset(\"user1\", doc)"
   ]
  },
  {
   "cell_type": "code",
   "execution_count": 24,
   "metadata": {
    "ExecuteTime": {
     "end_time": "2018-12-04T08:26:34.248995Z",
     "start_time": "2018-12-04T08:26:34.243270Z"
    }
   },
   "outputs": [
    {
     "data": {
      "text/plain": [
       "{'name': 'yourname', 'age': '20', 'city': 'paris'}"
      ]
     },
     "execution_count": 24,
     "metadata": {},
     "output_type": "execute_result"
    }
   ],
   "source": [
    "redis_client.hgetall(\"user1\")"
   ]
  },
  {
   "cell_type": "markdown",
   "metadata": {},
   "source": [
    "On peut modifier uniquement une clé du dictionnaire"
   ]
  },
  {
   "cell_type": "code",
   "execution_count": 25,
   "metadata": {
    "ExecuteTime": {
     "end_time": "2018-12-04T08:26:35.008465Z",
     "start_time": "2018-12-04T08:26:34.999460Z"
    }
   },
   "outputs": [
    {
     "data": {
      "text/plain": [
       "0"
      ]
     },
     "execution_count": 25,
     "metadata": {},
     "output_type": "execute_result"
    }
   ],
   "source": [
    "redis_client.hset(\"user1\", \"city\", \"lyon\")"
   ]
  },
  {
   "cell_type": "code",
   "execution_count": 26,
   "metadata": {
    "ExecuteTime": {
     "end_time": "2018-12-04T08:26:35.361923Z",
     "start_time": "2018-12-04T08:26:35.355242Z"
    }
   },
   "outputs": [
    {
     "data": {
      "text/plain": [
       "{'name': 'yourname', 'age': '20', 'city': 'lyon'}"
      ]
     },
     "execution_count": 26,
     "metadata": {},
     "output_type": "execute_result"
    }
   ],
   "source": [
    "redis_client.hgetall(\"user1\")"
   ]
  },
  {
   "cell_type": "markdown",
   "metadata": {},
   "source": [
    "## Les pipelines"
   ]
  },
  {
   "cell_type": "code",
   "execution_count": 27,
   "metadata": {
    "ExecuteTime": {
     "end_time": "2018-12-04T08:26:36.136976Z",
     "start_time": "2018-12-04T08:26:36.133949Z"
    }
   },
   "outputs": [],
   "source": [
    "import timeit"
   ]
  },
  {
   "cell_type": "markdown",
   "metadata": {},
   "source": [
    "Lorsque l'on appelle une méthode depuis le client python, chaqu'une d'entres elles fait un appel à Redis, ce qui peut prendre du temps. Les pipelines permettent de réduire ce temps en stockant toutes les opérations et en les applicant une seul fois sur la base. Cela permet d'augmenter grandement les performances en réduisant les appels et le passage par le réseau. "
   ]
  },
  {
   "cell_type": "code",
   "execution_count": 28,
   "metadata": {
    "ExecuteTime": {
     "end_time": "2018-12-04T08:26:36.921577Z",
     "start_time": "2018-12-04T08:26:36.918549Z"
    }
   },
   "outputs": [],
   "source": [
    "N = 10000"
   ]
  },
  {
   "cell_type": "code",
   "execution_count": 29,
   "metadata": {
    "ExecuteTime": {
     "end_time": "2018-12-04T08:26:37.269282Z",
     "start_time": "2018-12-04T08:26:37.265317Z"
    }
   },
   "outputs": [],
   "source": [
    "def store_key_values(N):\n",
    "    for i in range(N):\n",
    "        redis_client.set(f\"key_{i}\", f\"value_{i}\")"
   ]
  },
  {
   "cell_type": "code",
   "execution_count": 30,
   "metadata": {
    "ExecuteTime": {
     "end_time": "2018-12-04T08:27:03.663057Z",
     "start_time": "2018-12-04T08:26:37.607869Z"
    }
   },
   "outputs": [
    {
     "name": "stdout",
     "output_type": "stream",
     "text": [
      "1.37 s ± 21.6 ms per loop (mean ± std. dev. of 7 runs, 1 loop each)\n"
     ]
    }
   ],
   "source": [
    "%%timeit\n",
    "store_key_values(N=N)"
   ]
  },
  {
   "cell_type": "code",
   "execution_count": 31,
   "metadata": {
    "ExecuteTime": {
     "end_time": "2018-12-04T08:27:03.680221Z",
     "start_time": "2018-12-04T08:27:03.676471Z"
    }
   },
   "outputs": [],
   "source": [
    "def store_key_values_with_pipelines(N):\n",
    "    p = redis_client.pipeline()\n",
    "    for i in range(N):\n",
    "        p.set(f\"key_{i}\", f\"value_{i}\")"
   ]
  },
  {
   "cell_type": "code",
   "execution_count": 32,
   "metadata": {
    "ExecuteTime": {
     "end_time": "2018-12-04T08:27:14.525408Z",
     "start_time": "2018-12-04T08:27:03.691655Z"
    }
   },
   "outputs": [
    {
     "name": "stdout",
     "output_type": "stream",
     "text": [
      "23.7 ms ± 1.24 ms per loop (mean ± std. dev. of 7 runs, 10 loops each)\n"
     ]
    }
   ],
   "source": [
    "%%timeit\n",
    "store_key_values_with_pipelines(N=N)"
   ]
  },
  {
   "cell_type": "code",
   "execution_count": 33,
   "metadata": {},
   "outputs": [
    {
     "ename": "SyntaxError",
     "evalue": "invalid syntax (425735393.py, line 1)",
     "output_type": "error",
     "traceback": [
      "\u001b[0;36m  File \u001b[0;32m\"/tmp/ipykernel_82/425735393.py\"\u001b[0;36m, line \u001b[0;32m1\u001b[0m\n\u001b[0;31m    On voit alors que l'on peut diviser le temps par 100. Dans vos différents métiers les performances sont souvent très importan\u001b[0m\n\u001b[0m       ^\u001b[0m\n\u001b[0;31mSyntaxError\u001b[0m\u001b[0;31m:\u001b[0m invalid syntax\n"
     ]
    }
   ],
   "source": [
    "On voit alors que l'on peut diviser le temps par 100. Dans vos différents métiers les performances sont souvent très importan"
   ]
  },
  {
   "cell_type": "markdown",
   "metadata": {},
   "source": [
    "# Exercice"
   ]
  },
  {
   "cell_type": "markdown",
   "metadata": {},
   "source": [
    "Utiliser redis pour gérer les commandes d'un restaurant de burgers, pour simplifier les choses les clients pourront choisir leurs ingrédients dans 3 types de produits :\n",
    "\n",
    "- Pain: blanc, complet, aux céréales\n",
    "- Garniture : salade, tomates , oignons, concombres\n",
    "- Protéines : poulet, boeuf, agneau, tofu\n",
    "\n",
    "Chaque ingrédient équivaut à un prix et un poids, avec chaque commande vous devrez calculer le poids et le prix que les clients devront régler. \n",
    "\n",
    "1) Stocker les informations concernant les ingrédients dans redis   \n",
    "2) Créer la méthode permettant de créer aléatoirement un burger  \n",
    "3) Créer la méthode qui permet d'empiler dans redis les prochaines commandes (Réfléchir au type de données utilisé)  \n",
    "4) Créer la méthode permettant de calculer le poids et le prix du burger  \n",
    "5) Créer une boucle pour dépiler, réaliser et servir les burgers.  \n",
    "\n",
    "Pour vous aider voici quelques données "
   ]
  },
  {
   "cell_type": "code",
   "execution_count": 31,
   "metadata": {},
   "outputs": [],
   "source": [
    "import json\n",
    "import ast\n",
    "\n",
    "LOCAL = False\n",
    "\n",
    "rclient = redis.StrictRedis(host='localhost' if LOCAL else 'redis')"
   ]
  },
  {
   "cell_type": "code",
   "execution_count": 32,
   "metadata": {},
   "outputs": [],
   "source": [
    "def convert_to_dict(key):    \n",
    "    _str = rclient.get(key)\n",
    "    dict_ = _str.decode(\"UTF-8\")\n",
    "    mydata = ast.literal_eval(dict_)\n",
    "    return mydata"
   ]
  },
  {
   "cell_type": "code",
   "execution_count": 33,
   "metadata": {
    "ExecuteTime": {
     "end_time": "2018-12-04T08:37:06.762862Z",
     "start_time": "2018-12-04T08:37:06.759434Z"
    }
   },
   "outputs": [
    {
     "data": {
      "text/plain": [
       "True"
      ]
     },
     "execution_count": 33,
     "metadata": {},
     "output_type": "execute_result"
    }
   ],
   "source": [
    "pains = {\n",
    "    \"blanc\":{\n",
    "        \"poid\":100,\n",
    "        \"prix\": 2\n",
    "    },\n",
    "    \"complet\":{\n",
    "        \"poid\":90,\n",
    "        \"prix\": 3\n",
    "    },\n",
    "    \"cereales\":{\n",
    "        \"poid\":120,\n",
    "        \"prix\": 4\n",
    "    }\n",
    "}\n",
    "pains = json.dumps(pains)\n",
    "rclient.set(\"pains\", pains)"
   ]
  },
  {
   "cell_type": "code",
   "execution_count": 35,
   "metadata": {},
   "outputs": [
    {
     "name": "stdout",
     "output_type": "stream",
     "text": [
      "{'blanc': {'poid': 100, 'prix': 2}, 'complet': {'poid': 90, 'prix': 3}, 'cereales': {'poid': 120, 'prix': 4}}\n"
     ]
    }
   ],
   "source": [
    "pains_dict = convert_to_dict('pains')\n",
    "print(pains_dict)"
   ]
  },
  {
   "cell_type": "code",
   "execution_count": 8,
   "metadata": {
    "ExecuteTime": {
     "end_time": "2018-12-04T08:37:07.247818Z",
     "start_time": "2018-12-04T08:37:07.244362Z"
    }
   },
   "outputs": [
    {
     "data": {
      "text/plain": [
       "True"
      ]
     },
     "execution_count": 8,
     "metadata": {},
     "output_type": "execute_result"
    }
   ],
   "source": [
    "garniture = {\n",
    "    \"salade\":{\n",
    "        \"poid\":50,\n",
    "        \"prix\": 1\n",
    "    }, \"tomates\":{\n",
    "        \"poid\":60,\n",
    "        \"prix\": 2\n",
    "    } , \"oignons\":{\n",
    "        \"poid\":10,\n",
    "        \"prix\": 1.5\n",
    "    }, \"concombres\":{\n",
    "        \"poid\":30,\n",
    "        \"prix\": 3\n",
    "    }\n",
    "}\n",
    "garniture = json.dumps(garniture)\n",
    "rclient.set(\"garniture\", garniture)"
   ]
  },
  {
   "cell_type": "code",
   "execution_count": 36,
   "metadata": {},
   "outputs": [
    {
     "name": "stdout",
     "output_type": "stream",
     "text": [
      "{'salade': {'poid': 50, 'prix': 1}, 'tomates': {'poid': 60, 'prix': 2}, 'oignons': {'poid': 10, 'prix': 1.5}, 'concombres': {'poid': 30, 'prix': 3}}\n"
     ]
    }
   ],
   "source": [
    "garniture_dict = convert_to_dict('garniture')\n",
    "print(garniture_dict)"
   ]
  },
  {
   "cell_type": "code",
   "execution_count": 9,
   "metadata": {
    "ExecuteTime": {
     "end_time": "2018-12-04T08:37:07.517097Z",
     "start_time": "2018-12-04T08:37:07.512411Z"
    },
    "scrolled": false
   },
   "outputs": [
    {
     "data": {
      "text/plain": [
       "True"
      ]
     },
     "execution_count": 9,
     "metadata": {},
     "output_type": "execute_result"
    }
   ],
   "source": [
    "proteine = {\n",
    "    \"poulet\":{\n",
    "        \"poid\":100,\n",
    "        \"prix\": 6\n",
    "    }, \"boeuf\":{\n",
    "        \"poid\":150,\n",
    "        \"prix\": 5\n",
    "    } , \"agneau\":{\n",
    "        \"poid\":120,\n",
    "        \"prix\": 7\n",
    "    }, \"tofu\":{\n",
    "        \"poid\":80,\n",
    "        \"prix\": 8\n",
    "    }\n",
    "}\n",
    "proteine = json.dumps(proteine)\n",
    "rclient.set(\"proteine\", proteine)"
   ]
  },
  {
   "cell_type": "code",
   "execution_count": 37,
   "metadata": {},
   "outputs": [
    {
     "name": "stdout",
     "output_type": "stream",
     "text": [
      "{'poulet': {'poid': 100, 'prix': 6}, 'boeuf': {'poid': 150, 'prix': 5}, 'agneau': {'poid': 120, 'prix': 7}, 'tofu': {'poid': 80, 'prix': 8}}\n"
     ]
    }
   ],
   "source": [
    "proteine_dict = convert_to_dict('proteine')\n",
    "print(proteine_dict)"
   ]
  },
  {
   "cell_type": "code",
   "execution_count": 38,
   "metadata": {},
   "outputs": [],
   "source": [
    "import random"
   ]
  },
  {
   "cell_type": "code",
   "execution_count": 29,
   "metadata": {
    "ExecuteTime": {
     "end_time": "2018-12-04T08:39:08.617493Z",
     "start_time": "2018-12-04T08:39:08.609953Z"
    }
   },
   "outputs": [],
   "source": [
    "def make_burger():\n",
    "    pass\n",
    "\n",
    "def make_order():\n",
    "    pass\n",
    "\n",
    "def get_next_order():\n",
    "    pass\n",
    "\n",
    "def process_price_weight():\n",
    "    pass\n",
    "\n",
    "def process_burger():\n",
    "    return None, None, None"
   ]
  },
  {
   "cell_type": "code",
   "execution_count": 30,
   "metadata": {
    "ExecuteTime": {
     "end_time": "2018-12-04T08:39:08.817270Z",
     "start_time": "2018-12-04T08:39:08.812786Z"
    }
   },
   "outputs": [
    {
     "ename": "KeyError",
     "evalue": "1",
     "output_type": "error",
     "traceback": [
      "\u001b[0;31m---------------------------------------------------------------------------\u001b[0m",
      "\u001b[0;31mKeyError\u001b[0m                                  Traceback (most recent call last)",
      "\u001b[0;32m/tmp/ipykernel_36/279419451.py\u001b[0m in \u001b[0;36m<module>\u001b[0;34m\u001b[0m\n\u001b[1;32m      1\u001b[0m \u001b[0;32mwhile\u001b[0m \u001b[0;32mTrue\u001b[0m\u001b[0;34m:\u001b[0m\u001b[0;34m\u001b[0m\u001b[0;34m\u001b[0m\u001b[0m\n\u001b[0;32m----> 2\u001b[0;31m     \u001b[0mburger\u001b[0m\u001b[0;34m,\u001b[0m \u001b[0mprice\u001b[0m\u001b[0;34m,\u001b[0m \u001b[0mweight\u001b[0m \u001b[0;34m=\u001b[0m \u001b[0mmake_burger\u001b[0m\u001b[0;34m(\u001b[0m\u001b[0;34m)\u001b[0m\u001b[0;34m\u001b[0m\u001b[0;34m\u001b[0m\u001b[0m\n\u001b[0m\u001b[1;32m      3\u001b[0m     \u001b[0mprint\u001b[0m\u001b[0;34m(\u001b[0m\u001b[0;34mf'Le burger {burger} de {weight} gr à été préparé et servi il faut régler {price}€'\u001b[0m\u001b[0;34m)\u001b[0m\u001b[0;34m\u001b[0m\u001b[0;34m\u001b[0m\u001b[0m\n\u001b[1;32m      4\u001b[0m     \u001b[0;32mbreak\u001b[0m\u001b[0;34m\u001b[0m\u001b[0;34m\u001b[0m\u001b[0m\n",
      "\u001b[0;32m/tmp/ipykernel_36/2905456144.py\u001b[0m in \u001b[0;36mmake_burger\u001b[0;34m()\u001b[0m\n\u001b[1;32m      1\u001b[0m \u001b[0;32mdef\u001b[0m \u001b[0mmake_burger\u001b[0m\u001b[0;34m(\u001b[0m\u001b[0;34m)\u001b[0m\u001b[0;34m:\u001b[0m\u001b[0;34m\u001b[0m\u001b[0;34m\u001b[0m\u001b[0m\n\u001b[0;32m----> 2\u001b[0;31m     \u001b[0;32mreturn\u001b[0m \u001b[0;34m{\u001b[0m\u001b[0;34m\"pains\"\u001b[0m\u001b[0;34m:\u001b[0m\u001b[0mrandom\u001b[0m\u001b[0;34m.\u001b[0m\u001b[0mchoice\u001b[0m\u001b[0;34m(\u001b[0m\u001b[0mconvert_to_dict\u001b[0m\u001b[0;34m(\u001b[0m\u001b[0;34m'pains'\u001b[0m\u001b[0;34m)\u001b[0m\u001b[0;34m)\u001b[0m\u001b[0;34m,\u001b[0m \u001b[0;34m\"garniture\"\u001b[0m\u001b[0;34m:\u001b[0m\u001b[0mrandom\u001b[0m\u001b[0;34m.\u001b[0m\u001b[0mchoice\u001b[0m\u001b[0;34m(\u001b[0m\u001b[0mconvert_to_dict\u001b[0m\u001b[0;34m(\u001b[0m\u001b[0;34m'garniture'\u001b[0m\u001b[0;34m)\u001b[0m\u001b[0;34m)\u001b[0m\u001b[0;34m,\u001b[0m \u001b[0;34m\"proteine\"\u001b[0m\u001b[0;34m:\u001b[0m\u001b[0mrandom\u001b[0m\u001b[0;34m.\u001b[0m\u001b[0mchoice\u001b[0m\u001b[0;34m(\u001b[0m\u001b[0mconvert_to_dict\u001b[0m\u001b[0;34m(\u001b[0m\u001b[0;34m'proteine'\u001b[0m\u001b[0;34m)\u001b[0m\u001b[0;34m)\u001b[0m\u001b[0;34m}\u001b[0m\u001b[0;34m\u001b[0m\u001b[0;34m\u001b[0m\u001b[0m\n\u001b[0m\u001b[1;32m      3\u001b[0m \u001b[0;34m\u001b[0m\u001b[0m\n\u001b[1;32m      4\u001b[0m \u001b[0;32mdef\u001b[0m \u001b[0mmake_order\u001b[0m\u001b[0;34m(\u001b[0m\u001b[0;34m)\u001b[0m\u001b[0;34m:\u001b[0m\u001b[0;34m\u001b[0m\u001b[0;34m\u001b[0m\u001b[0m\n\u001b[1;32m      5\u001b[0m     \u001b[0;32mpass\u001b[0m\u001b[0;34m\u001b[0m\u001b[0;34m\u001b[0m\u001b[0m\n",
      "\u001b[0;32m/usr/local/lib/python3.8/random.py\u001b[0m in \u001b[0;36mchoice\u001b[0;34m(self, seq)\u001b[0m\n\u001b[1;32m    289\u001b[0m         \u001b[0;32mexcept\u001b[0m \u001b[0mValueError\u001b[0m\u001b[0;34m:\u001b[0m\u001b[0;34m\u001b[0m\u001b[0;34m\u001b[0m\u001b[0m\n\u001b[1;32m    290\u001b[0m             \u001b[0;32mraise\u001b[0m \u001b[0mIndexError\u001b[0m\u001b[0;34m(\u001b[0m\u001b[0;34m'Cannot choose from an empty sequence'\u001b[0m\u001b[0;34m)\u001b[0m \u001b[0;32mfrom\u001b[0m \u001b[0;32mNone\u001b[0m\u001b[0;34m\u001b[0m\u001b[0;34m\u001b[0m\u001b[0m\n\u001b[0;32m--> 291\u001b[0;31m         \u001b[0;32mreturn\u001b[0m \u001b[0mseq\u001b[0m\u001b[0;34m[\u001b[0m\u001b[0mi\u001b[0m\u001b[0;34m]\u001b[0m\u001b[0;34m\u001b[0m\u001b[0;34m\u001b[0m\u001b[0m\n\u001b[0m\u001b[1;32m    292\u001b[0m \u001b[0;34m\u001b[0m\u001b[0m\n\u001b[1;32m    293\u001b[0m     \u001b[0;32mdef\u001b[0m \u001b[0mshuffle\u001b[0m\u001b[0;34m(\u001b[0m\u001b[0mself\u001b[0m\u001b[0;34m,\u001b[0m \u001b[0mx\u001b[0m\u001b[0;34m,\u001b[0m \u001b[0mrandom\u001b[0m\u001b[0;34m=\u001b[0m\u001b[0;32mNone\u001b[0m\u001b[0;34m)\u001b[0m\u001b[0;34m:\u001b[0m\u001b[0;34m\u001b[0m\u001b[0;34m\u001b[0m\u001b[0m\n",
      "\u001b[0;31mKeyError\u001b[0m: 1"
     ]
    }
   ],
   "source": [
    "while True:\n",
    "    burger, price, weight = make_burger()\n",
    "    print(f'Le burger {burger} de {weight} gr à été préparé et servi il faut régler {price}€')\n",
    "    break"
   ]
  },
  {
   "cell_type": "code",
   "execution_count": null,
   "metadata": {},
   "outputs": [],
   "source": []
  }
 ],
 "metadata": {
  "kernelspec": {
   "display_name": "Python 3 (ipykernel)",
   "language": "python",
   "name": "python3"
  },
  "language_info": {
   "codemirror_mode": {
    "name": "ipython",
    "version": 3
   },
   "file_extension": ".py",
   "mimetype": "text/x-python",
   "name": "python",
   "nbconvert_exporter": "python",
   "pygments_lexer": "ipython3",
   "version": "3.8.12"
  },
  "varInspector": {
   "cols": {
    "lenName": 16,
    "lenType": 16,
    "lenVar": 40
   },
   "kernels_config": {
    "python": {
     "delete_cmd_postfix": "",
     "delete_cmd_prefix": "del ",
     "library": "var_list.py",
     "varRefreshCmd": "print(var_dic_list())"
    },
    "r": {
     "delete_cmd_postfix": ") ",
     "delete_cmd_prefix": "rm(",
     "library": "var_list.r",
     "varRefreshCmd": "cat(var_dic_list()) "
    }
   },
   "types_to_exclude": [
    "module",
    "function",
    "builtin_function_or_method",
    "instance",
    "_Feature"
   ],
   "window_display": false
  }
 },
 "nbformat": 4,
 "nbformat_minor": 2
}
